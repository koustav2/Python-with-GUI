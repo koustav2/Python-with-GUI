{
 "cells": [
  {
   "cell_type": "code",
   "execution_count": 18,
   "metadata": {},
   "outputs": [],
   "source": [
    "from tkinter import *\n",
    "\n",
    "from tkinter import filedialog\n",
    "\n",
    "from pygame import mixer"
   ]
  },
  {
   "cell_type": "code",
   "execution_count": 19,
   "metadata": {},
   "outputs": [],
   "source": [
    "class MusicPlayer:\n",
    "    \n",
    "    def __init__(self, window ):\n",
    "        window.geometry('320x100'); window.title('Iris Player'); window.resizable(0,0)\n",
    "        Load = Button(window, text = 'Load',  width = 10, font = ('Times', 10), command = self.load,bg='blue')\n",
    "        Play = Button(window, text = 'Play',  width = 10,font = ('Times', 10), command = self.play,bg='blue')\n",
    "        Pause = Button(window,text = 'Pause',  width = 10, font = ('Times', 10), command = self.pause,bg='blue')\n",
    "        Stop = Button(window ,text = 'Stop',  width = 10, font = ('Times', 10), command = self.stop,bg='blue')\n",
    "        Load.place(x=0,y=20);Play.place(x=110,y=20);Pause.place(x=220,y=20);Stop.place(x=110,y=60) \n",
    "        self.music_file = False\n",
    "        self.playing_state = False\n",
    "\n",
    "    def load(self):\n",
    "        self.music_file = filedialog.askopenfilename()\n",
    "\n",
    "    def play(self):\n",
    "        if self.music_file:\n",
    "            mixer.init()\n",
    "            mixer.music.load(self.music_file)\n",
    "            mixer.music.play()\n",
    "\n",
    "    def pause(self):\n",
    "        if not self.playing_state:\n",
    "            mixer.music.pause()\n",
    "            self.playing_state=True\n",
    "        else:\n",
    "            mixer.music.unpause()\n",
    "            self.playing_state = False\n",
    "\n",
    "    def stop(self):\n",
    "        mixer.music.stop()\n",
    "\n",
    "root = Tk()\n",
    "app= MusicPlayer(root)\n",
    "root.mainloop()"
   ]
  }
 ],
 "metadata": {
  "interpreter": {
   "hash": "8aadd5d84131220a2bfbf02f64b6eea786fea01db342529ad86eb1d7d280b4a7"
  },
  "kernelspec": {
   "display_name": "Python 3.10.2 64-bit",
   "language": "python",
   "name": "python3"
  },
  "language_info": {
   "codemirror_mode": {
    "name": "ipython",
    "version": 3
   },
   "file_extension": ".py",
   "mimetype": "text/x-python",
   "name": "python",
   "nbconvert_exporter": "python",
   "pygments_lexer": "ipython3",
   "version": "3.10.2"
  },
  "orig_nbformat": 4
 },
 "nbformat": 4,
 "nbformat_minor": 2
}
