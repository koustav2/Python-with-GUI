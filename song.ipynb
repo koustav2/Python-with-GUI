{
 "cells": [
  {
   "cell_type": "code",
   "execution_count": 2,
   "metadata": {},
   "outputs": [],
   "source": [
    "import pygame"
   ]
  },
  {
   "cell_type": "code",
   "execution_count": 9,
   "metadata": {},
   "outputs": [],
   "source": [
    "music = (r\"C:\\Users\\Koustav\\Desktop\\New folder (3)\\o-aasman-wale-jubin-nautiyal-128-kbps-sound.mp3\")\n",
    "pygame.mixer.music.load(music)\n",
    "pygame.mixer.music.play()\n"
   ]
  },
  {
   "cell_type": "code",
   "execution_count": 1,
   "metadata": {},
   "outputs": [
    {
     "name": "stdout",
     "output_type": "stream",
     "text": [
      "pygame 2.1.0 (SDL 2.0.16, Python 3.10.2)\n",
      "Hello from the pygame community. https://www.pygame.org/contribute.html\n"
     ]
    }
   ],
   "source": [
    "#importing libraries \n",
    "from pygame import mixer\n",
    "from tkinter import *\n",
    "import tkinter.font as font\n",
    "from tkinter import filedialog"
   ]
  }
 ],
 "metadata": {
  "interpreter": {
   "hash": "8aadd5d84131220a2bfbf02f64b6eea786fea01db342529ad86eb1d7d280b4a7"
  },
  "kernelspec": {
   "display_name": "Python 3.10.2 64-bit",
   "language": "python",
   "name": "python3"
  },
  "language_info": {
   "codemirror_mode": {
    "name": "ipython",
    "version": 3
   },
   "file_extension": ".py",
   "mimetype": "text/x-python",
   "name": "python",
   "nbconvert_exporter": "python",
   "pygments_lexer": "ipython3",
   "version": "3.10.2"
  },
  "orig_nbformat": 4
 },
 "nbformat": 4,
 "nbformat_minor": 2
}
